{
  "nbformat": 4,
  "nbformat_minor": 0,
  "metadata": {
    "colab": {
      "provenance": [],
      "authorship_tag": "ABX9TyN7yplbfspru2cDYrjO60YG",
      "include_colab_link": true
    },
    "kernelspec": {
      "name": "python3",
      "display_name": "Python 3"
    },
    "language_info": {
      "name": "python"
    }
  },
  "cells": [
    {
      "cell_type": "markdown",
      "metadata": {
        "id": "view-in-github",
        "colab_type": "text"
      },
      "source": [
        "<a href=\"https://colab.research.google.com/github/nickehsani/CSE151A_DARWIN_Alzheimer-s/blob/main/Written_Report.ipynb\" target=\"_parent\"><img src=\"https://colab.research.google.com/assets/colab-badge.svg\" alt=\"Open In Colab\"/></a>"
      ]
    },
    {
      "cell_type": "markdown",
      "source": [
        "# CSE151A_DARWIN_Alzheimer's\n",
        "\n",
        "#### Predictive modeling of Alzheimer's patients.\n",
        "\n",
        "\n",
        "---\n",
        "\n"
      ],
      "metadata": {
        "id": "-4xZbFhs4RVe"
      }
    },
    {
      "cell_type": "markdown",
      "source": [
        "## Introduction"
      ],
      "metadata": {
        "id": "QCoS_8Ja4zuN"
      }
    },
    {
      "cell_type": "markdown",
      "source": [
        "Why was it chosen? Why is it cool? Discuss the general/broader impact of having a good predictive mode. i.e. why is this important?  (Delete this cell once finished)"
      ],
      "metadata": {
        "id": "5nhWJXXo5Kvl"
      }
    },
    {
      "cell_type": "markdown",
      "source": [
        "Overall summary, goal, results."
      ],
      "metadata": {
        "id": "V4oAwwdgVWPb"
      }
    },
    {
      "cell_type": "markdown",
      "source": [
        "## Methods"
      ],
      "metadata": {
        "id": "n4ge3VWN41zw"
      }
    },
    {
      "cell_type": "markdown",
      "source": [
        "This section will include the exploration results, preprocessing steps, models chosen in the order they were executed. You should also describe the parameters chosen. Please make sub-sections for every step. i.e Data Exploration, Preprocessing, Model 1, Model 2, additional models are optional. Please note that models can be the same i.e. DNN but different versions of it if they are distinct enough. Changes can not be incremental. You can put links here to notebooks and/or code blocks using three ` in markup for displaying code. so it would look like this: ``` MY CODE BLOCK ```\n",
        "\n",
        "Note: A methods section does not include any why. the reason why will be in the discussion section. This is just a summary of your methods  (Delete this cell once finished)\n"
      ],
      "metadata": {
        "id": "_KJCx6u0UVhC"
      }
    },
    {
      "cell_type": "markdown",
      "source": [
        "## Results"
      ],
      "metadata": {
        "id": "IY4gXQvf4_Y3"
      }
    },
    {
      "cell_type": "markdown",
      "source": [
        "This will include the results from the methods listed above (C). You will have figures here about your results as well. No exploration of results is done here. This is mainly just a summary of your results. The sub-sections will be the same as the sections in your methods section.  (Delete this cell once finished)"
      ],
      "metadata": {
        "id": "NPwAueIxUlLd"
      }
    },
    {
      "cell_type": "markdown",
      "source": [
        "## Discussion"
      ],
      "metadata": {
        "id": "dP39ZQxD4_pI"
      }
    },
    {
      "cell_type": "markdown",
      "source": [
        "This is where you will discuss the why, and your interpretation and your though process from beginning to end. This will mimic the sections you have created in your methods section as well as new sections you feel you need to create. You can also discuss how believable your results are at each step. You can discuss any short comings. It's ok to criticize as this shows your intellectual merit, as to how you are thinking about things scientifically and how you are able to correctly scrutinize things and find short comings. In science we never really find the perfect solution, especially since we know something will probably come up int he future (i.e. donkeys) and mess everything up. If you do it's probably a unicorn or the data and model you chose are just perfect for each other!  (Delete this cell once finished)"
      ],
      "metadata": {
        "id": "GKt4A0QWUp0V"
      }
    },
    {
      "cell_type": "markdown",
      "source": [
        "## Conclusion"
      ],
      "metadata": {
        "id": "PTCYNdbV5yAl"
      }
    },
    {
      "cell_type": "markdown",
      "source": [
        "This is where you do a mind dump on your opinions and possible future directions. Basically what you wish you could have done differently. Here you close with final thoughts.  (Delete this cell once finished)"
      ],
      "metadata": {
        "id": "cL5X0qRqVHSn"
      }
    },
    {
      "cell_type": "markdown",
      "source": [
        "## Statement of Collaboration"
      ],
      "metadata": {
        "id": "GS7IbcEv500Q"
      }
    },
    {
      "cell_type": "markdown",
      "source": [
        "This is a statement of contribution by each member. This will be taken into consideration when making the final grade for each member in the group. Did you work as a team? was there a team leader? project manager? coding? writer? etc. Please be truthful about this as this will determine individual grades in participation. There is no job that is better than the other. If you did no code but did the entire write up and gave feedback during the steps and collaborated then you would still get full credit. If you only coded but gave feedback on the write up and other things, then you still get full credit. If you managed everyone and the deadlines and setup meetings and communicated with teaching staff only then you get full credit. Every role is important as long as you collaborated and were integral to the completion of the project. If the person did nothing. they risk getting a big fat 0. Just like in any job, if you did nothing, you have the risk of getting fired. Teamwork is one of the most important qualities in industry and academia!\n",
        "\n",
        "Format: Start with Name: Title: Contribution. If the person contributed nothing then just put in writing: Did not participate in the project. (Delete this cell once finished)"
      ],
      "metadata": {
        "id": "Er4aFYqHVLLF"
      }
    },
    {
      "cell_type": "markdown",
      "source": [
        "In this project, we've been working together the following way:\n",
        " - Nick Ehsani: Leader. Contributed to the scheduling of meetings, and important decisions such as pivoting to our dataset when we hit a roadblock with preprocessing our Milestone 1 dataset. I worked on some of the preprocessing code and worked on a decision tree model. I worked on the writeup... (To be finished)"
      ],
      "metadata": {
        "id": "QO4cENrW56tf"
      }
    }
  ]
}